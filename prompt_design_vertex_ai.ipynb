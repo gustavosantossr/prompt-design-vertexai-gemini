{
  "nbformat": 4,
  "nbformat_minor": 0,
  "metadata": {
    "colab": {
      "provenance": [],
      "authorship_tag": "ABX9TyNpp+B5UHciq387n0+HKqWY",
      "include_colab_link": true
    },
    "kernelspec": {
      "name": "python3",
      "display_name": "Python 3"
    },
    "language_info": {
      "name": "python"
    }
  },
  "cells": [
    {
      "cell_type": "markdown",
      "metadata": {
        "id": "view-in-github",
        "colab_type": "text"
      },
      "source": [
        "<a href=\"https://colab.research.google.com/github/gustavosantossr/prompt-design-vertexai-gemini/blob/staging/prompt_design_vertex_ai.ipynb\" target=\"_parent\"><img src=\"https://colab.research.google.com/assets/colab-badge.svg\" alt=\"Open In Colab\"/></a>"
      ]
    },
    {
      "cell_type": "code",
      "source": [
        "!pip install google-cloud-core"
      ],
      "metadata": {
        "id": "GO7HJgVwHsLI"
      },
      "execution_count": null,
      "outputs": []
    },
    {
      "cell_type": "code",
      "source": [
        "!pip install google-cloud-bigquery"
      ],
      "metadata": {
        "id": "j0EHqrZNH79H"
      },
      "execution_count": null,
      "outputs": []
    },
    {
      "cell_type": "code",
      "execution_count": null,
      "metadata": {
        "id": "f3pB3SrMHMBn"
      },
      "outputs": [],
      "source": [
        "!pip install google-cloud-aiplatform protobuf==3.19.3 --upgrade --user"
      ]
    },
    {
      "cell_type": "code",
      "source": [
        "!pip install -U google-cloud-aiplatform \"shapely<2\""
      ],
      "metadata": {
        "id": "78iAGdVdId2C"
      },
      "execution_count": null,
      "outputs": []
    },
    {
      "cell_type": "code",
      "source": [
        "from google.colab import userdata #import for secrets"
      ],
      "metadata": {
        "id": "hMMx1u7KZzjy"
      },
      "execution_count": null,
      "outputs": []
    },
    {
      "cell_type": "code",
      "source": [
        "# Automatically restart kernel after installs so that your environment can access the new packages\n",
        "import IPython\n",
        "\n",
        "app = IPython.Application.instance()\n",
        "app.kernel.do_shutdown(True)"
      ],
      "metadata": {
        "id": "u96EkcmpIpJq"
      },
      "execution_count": null,
      "outputs": []
    },
    {
      "cell_type": "code",
      "source": [
        "import sys\n",
        "\n",
        "if \"google.colab\" in sys.modules:\n",
        "    from google.colab import auth\n",
        "\n",
        "    auth.authenticate_user()"
      ],
      "metadata": {
        "id": "rTENwMtoI11Z"
      },
      "execution_count": null,
      "outputs": []
    },
    {
      "cell_type": "code",
      "source": [
        "import vertexai\n",
        "\n",
        "PROJECT_ID = userdata.get('PROJECT_ID')  # @secret_key[type:string]\n",
        "REGION = userdata.get('REGION')  # @secret_key[type:string]\n",
        "\n",
        "vertexai.init(project=PROJECT_ID, location=REGION)"
      ],
      "metadata": {
        "id": "aMLDySpdJtcn",
        "cellView": "code"
      },
      "execution_count": null,
      "outputs": []
    },
    {
      "cell_type": "code",
      "source": [
        "from vertexai.language_models import TextGenerationModel\n",
        "from vertexai.language_models import ChatModel"
      ],
      "metadata": {
        "id": "EDHZ_pZXKRUp"
      },
      "execution_count": null,
      "outputs": []
    }
  ]
}